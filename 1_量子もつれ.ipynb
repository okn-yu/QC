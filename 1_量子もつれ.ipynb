{
 "cells": [
  {
   "cell_type": "markdown",
   "metadata": {},
   "source": [
    "# 1_量子もつれ"
   ]
  },
  {
   "cell_type": "markdown",
   "metadata": {},
   "source": [
    "* 2つの量子系を1つの量子系として扱う場合は、各量子状態のテンソル積として扱うことができる\n",
    "* ここで1つの量子状態を観測すると、一般には片方の量子状態は元の重ね合わせ状態のままである\n",
    "* 一部の量子状態では1つの量子状態を観測すると、片方の量子状態も重ね合わせ状態が収縮してしまう\n",
    "* 上の状態を量子もつれ状態と呼ぶ\n",
    "* 量子もつれ状態は、定義上個々の系の重ね合わせ状態の直積では記載できない\n"
   ]
  },
  {
   "cell_type": "markdown",
   "metadata": {},
   "source": [
    "* テンソル積とか混合状態とか純粋状態とか、量子力学の基本から復習したい..."
   ]
  },
  {
   "cell_type": "code",
   "execution_count": 1,
   "metadata": {},
   "outputs": [
    {
     "name": "stderr",
     "output_type": "stream",
     "text": [
      "/usr/local/lib/python3.6/dist-packages/qiskit/__init__.py:67: DeprecationWarning: Using Qiskit with Python 3.6 is deprecated as of the 0.17.0 release. Support for running Qiskit with Python 3.6 will be removed in a future release.\n",
      "  \"future release.\", DeprecationWarning)\n"
     ]
    }
   ],
   "source": [
    "import numpy as np\n",
    "from qiskit import QuantumCircuit, transpile, execute, Aer\n",
    "from qiskit.providers.aer import QasmSimulator\n",
    "from qiskit.visualization import plot_histogram\n",
    "from qiskit.quantum_info import Statevector\n",
    "from qiskit.visualization import plot_bloch_multivector"
   ]
  },
  {
   "cell_type": "markdown",
   "metadata": {},
   "source": [
    "#  量子もつれ状態①\n",
    "* |00> と |11>のもつれ状態"
   ]
  },
  {
   "cell_type": "code",
   "execution_count": 2,
   "metadata": {},
   "outputs": [
    {
     "name": "stdout",
     "output_type": "stream",
     "text": [
      "{'11': 490, '00': 510}\n"
     ]
    }
   ],
   "source": [
    "simulator = QasmSimulator()\n",
    "circuit = QuantumCircuit(2, 2)\n",
    "circuit.h(0)\n",
    "\n",
    "circuit.cx(0, 1)\n",
    "\n",
    "circuit.measure([0,1], [0,1])\n",
    "\n",
    "\n",
    "compiled_circuit = transpile(circuit, simulator)\n",
    "\n",
    "job = simulator.run(compiled_circuit, shots=1000)\n",
    "\n",
    "result = job.result()\n",
    "\n",
    "counts = result.get_counts(circuit)\n",
    "print(counts)"
   ]
  },
  {
   "cell_type": "code",
   "execution_count": 4,
   "metadata": {},
   "outputs": [
    {
     "data": {
      "image/png": "[encoded data removed]",
      "text/plain": [
       "<Figure size 387.452x204.68 with 1 Axes>"
      ]
     },
     "execution_count": 4,
     "metadata": {},
     "output_type": "execute_result"
    }
   ],
   "source": [
    "circuit.draw('mpl')"
   ]
  },
  {
   "cell_type": "markdown",
   "metadata": {},
   "source": [
    "#  量子もつれ状態②\n",
    "* |01> と |10>のもつれ状態"
   ]
  },
  {
   "cell_type": "code",
   "execution_count": 5,
   "metadata": {},
   "outputs": [
    {
     "name": "stdout",
     "output_type": "stream",
     "text": [
      "{'01': 487, '10': 513}\n"
     ]
    }
   ],
   "source": [
    "simulator = QasmSimulator()\n",
    "circuit = QuantumCircuit(2, 2)\n",
    "circuit.h(0)\n",
    "\n",
    "circuit.cx(0, 1)\n",
    "circuit.x(1)\n",
    "\n",
    "circuit.measure([0,1], [0,1])\n",
    "\n",
    "\n",
    "compiled_circuit = transpile(circuit, simulator)\n",
    "\n",
    "job = simulator.run(compiled_circuit, shots=1000)\n",
    "\n",
    "result = job.result()\n",
    "\n",
    "counts = result.get_counts(circuit)\n",
    "print(counts)"
   ]
  },
  {
   "cell_type": "code",
   "execution_count": 6,
   "metadata": {},
   "outputs": [
    {
     "data": {
      "image/png": "[encoded data removed]",
      "text/plain": [
       "<Figure size 387.452x204.68 with 1 Axes>"
      ]
     },
     "execution_count": 6,
     "metadata": {},
     "output_type": "execute_result"
    }
   ],
   "source": [
    "circuit.draw('mpl')"
   ]
  },
  {
   "cell_type": "code",
   "execution_count": null,
   "metadata": {},
   "outputs": [],
   "source": []
  }
 ],
 "metadata": {
  "kernelspec": {
   "display_name": "Python 3",
   "language": "python",
   "name": "python3"
  },
  "language_info": {
   "codemirror_mode": {
    "name": "ipython",
    "version": 3
   },
   "file_extension": ".py",
   "mimetype": "text/x-python",
   "name": "python",
   "nbconvert_exporter": "python",
   "pygments_lexer": "ipython3",
   "version": "3.6.9"
  }
 },
 "nbformat": 4,
 "nbformat_minor": 2
}
